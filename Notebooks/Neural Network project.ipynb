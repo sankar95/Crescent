{
 "cells": [
  {
   "cell_type": "code",
   "execution_count": 114,
   "metadata": {},
   "outputs": [],
   "source": [
    "import pandas as pd\n",
    "import numpy\n",
    "from collections import Counter\n",
    "from sklearn.model_selection import train_test_split\n",
    "from sklearn.preprocessing import StandardScaler\n",
    "from sklearn.metrics import accuracy_score, precision_score, recall_scoreclassification_report"
   ]
  },
  {
   "cell_type": "code",
   "execution_count": 31,
   "metadata": {},
   "outputs": [
    {
     "name": "stdout",
     "output_type": "stream",
     "text": [
      "Requirement already satisfied: torch in /Users/lokin/opt/anaconda3/lib/python3.7/site-packages (1.10.1)\n",
      "Requirement already satisfied: typing-extensions in /Users/lokin/opt/anaconda3/lib/python3.7/site-packages (from torch) (3.10.0.0)\n",
      "\u001b[33mWARNING: You are using pip version 21.2.3; however, version 22.0.4 is available.\n",
      "You should consider upgrading via the '/Users/lokin/opt/anaconda3/bin/python -m pip install --upgrade pip' command.\u001b[0m\n"
     ]
    }
   ],
   "source": [
    "!pip install torch"
   ]
  },
  {
   "cell_type": "code",
   "execution_count": 33,
   "metadata": {},
   "outputs": [],
   "source": [
    "import torch.nn as nn"
   ]
  },
  {
   "cell_type": "code",
   "execution_count": 52,
   "metadata": {},
   "outputs": [],
   "source": [
    "data = pd.read_csv(\"ready_to_model_data.csv\", index_col = 0)"
   ]
  },
  {
   "cell_type": "code",
   "execution_count": 53,
   "metadata": {},
   "outputs": [
    {
     "data": {
      "text/plain": [
       "(62938, 41)"
      ]
     },
     "execution_count": 53,
     "metadata": {},
     "output_type": "execute_result"
    }
   ],
   "source": [
    "data.shape"
   ]
  },
  {
   "cell_type": "code",
   "execution_count": 54,
   "metadata": {},
   "outputs": [
    {
     "data": {
      "text/plain": [
       "Index(['PROMISE_STATUS_O', 'EXTENSION_ELIGIBLE_Y',\n",
       "       'F0223_NUMBER_OF_EXTENSIONS', 'lastchannel_Z', 'REM_TM_RAT_OBS',\n",
       "       'ApplicantFICOScore', 'Appl_Debt', 'F0066_CONTACT_NO_PROMISE_COUNT',\n",
       "       'F0315_DAYS_SINCE_LAST_PROMISE_1', 'F0065_PROMISES_TAKEN_COUNT',\n",
       "       'F0068_ATTEMPTED_CONTACT_COUNT', 'F0071_CORRESPONDENCE_COUNT',\n",
       "       'F0314_TODAY_MINUS_DAYS_LAST_CONTACT',\n",
       "       'F0320_TODAY_MINUS_DAYS_LAST_MONETARY', 'F0381_DAYS_DELINQUENT_360',\n",
       "       'BALANCE_PERCENT_LOAN', 'F0146_PAST_DUE_PAYMENTS', 'DSLP',\n",
       "       'F0223_NUMBER_OF_EXTENSIONS.1', 'PMT_RAT_OBS', 'PaymentAmtLast60Days',\n",
       "       'PaymentAmtLast90Days', 'PaymentNumLast120Days',\n",
       "       'PmtNumFullAmtLast60Days', 'D5P_TOT_1', 'D31P_TOT_6', 'DD_AVG_1',\n",
       "       'BAL_RAT_TRN_6', 'CBTINDIRECTGEN23', 'LOANFUNDINGSCORE', 'LTVEffective',\n",
       "       'DepreciationRate', 'Appl_Income', 'PTI_BOOKED', 'SalesTax',\n",
       "       'DOWN_CASH', 'FINANCED_AMOUNT', 'F0089_PROMISE_AMT_1',\n",
       "       'F0180_CURRENT_INTEREST_RATE', 'BAL_RAT_TRN_6.1', 'DPD_bool'],\n",
       "      dtype='object')"
      ]
     },
     "execution_count": 54,
     "metadata": {},
     "output_type": "execute_result"
    }
   ],
   "source": [
    "data.columns"
   ]
  },
  {
   "cell_type": "code",
   "execution_count": 55,
   "metadata": {},
   "outputs": [
    {
     "data": {
      "text/plain": [
       "array([False,  True])"
      ]
     },
     "execution_count": 55,
     "metadata": {},
     "output_type": "execute_result"
    }
   ],
   "source": [
    "data['DPD_bool'].unique()"
   ]
  },
  {
   "cell_type": "code",
   "execution_count": 56,
   "metadata": {},
   "outputs": [],
   "source": [
    "data['DPD_bool'] = data['DPD_bool'].map({True: 1, False: 0})"
   ]
  },
  {
   "cell_type": "code",
   "execution_count": 57,
   "metadata": {},
   "outputs": [],
   "source": [
    "y = data['DPD_bool']\n",
    "X = data.drop('DPD_bool', axis = 1)"
   ]
  },
  {
   "cell_type": "code",
   "execution_count": 58,
   "metadata": {},
   "outputs": [
    {
     "data": {
      "text/plain": [
       "0.15296005592805617"
      ]
     },
     "execution_count": 58,
     "metadata": {},
     "output_type": "execute_result"
    }
   ],
   "source": [
    "Counter(y)[1]/len(y)"
   ]
  },
  {
   "cell_type": "code",
   "execution_count": 119,
   "metadata": {},
   "outputs": [
    {
     "data": {
      "text/plain": [
       "0.8470399440719438"
      ]
     },
     "execution_count": 119,
     "metadata": {},
     "output_type": "execute_result"
    }
   ],
   "source": [
    "Counter(y)[0]/len(y)"
   ]
  },
  {
   "cell_type": "code",
   "execution_count": 59,
   "metadata": {},
   "outputs": [],
   "source": [
    "X_train, X_test, y_train, y_test = train_test_split(X, y, test_size = 0.4)"
   ]
  },
  {
   "cell_type": "code",
   "execution_count": 60,
   "metadata": {},
   "outputs": [],
   "source": [
    "scaler = StandardScaler()\n",
    "scale_trainData = scaler.fit_transform(X_train)"
   ]
  },
  {
   "cell_type": "code",
   "execution_count": 61,
   "metadata": {},
   "outputs": [
    {
     "data": {
      "text/plain": [
       "array([[-0.32432413, -1.26136932,  0.54962278, ..., -0.28614241,\n",
       "        -1.04976712,  0.94250699],\n",
       "       [-0.32432413, -1.26136932,  0.54962278, ...,  1.67366762,\n",
       "        -0.65724203,  2.35503841],\n",
       "       [-0.32432413,  0.79278922, -0.71506892, ..., -0.144921  ,\n",
       "         1.41215022, -0.26823423],\n",
       "       ...,\n",
       "       [-0.32432413,  0.79278922, -0.71506892, ...,  2.18828438,\n",
       "         0.08070513,  2.35503841],\n",
       "       [-0.32432413, -1.26136932, -0.71506892, ..., -0.05609669,\n",
       "        -1.74061127, -0.67181464],\n",
       "       [-0.32432413,  0.79278922, -0.71506892, ..., -0.10215863,\n",
       "         2.2474436 , -1.07539504]])"
      ]
     },
     "execution_count": 61,
     "metadata": {},
     "output_type": "execute_result"
    }
   ],
   "source": [
    "scale_trainData"
   ]
  },
  {
   "cell_type": "code",
   "execution_count": 95,
   "metadata": {},
   "outputs": [
    {
     "name": "stdout",
     "output_type": "stream",
     "text": [
      "Net(\n",
      "  (linear1): Linear(in_features=40, out_features=20, bias=True)\n",
      "  (linear2): Linear(in_features=20, out_features=1, bias=True)\n",
      ")\n"
     ]
    }
   ],
   "source": [
    "class Net(nn.Module):\n",
    "    \n",
    "    def __init__(self, input, H, output):\n",
    "        super(Net, self).__init__()\n",
    "        self.linear1 = nn.Linear(input, H)\n",
    "        self.linear2 = nn.Linear(H, output)\n",
    "        \n",
    "    def forward(self, x):\n",
    "        \n",
    "        x = torch.from_numpy(x).float()\n",
    "        x = torch.sigmoid(self.linear1(x))\n",
    "        x = self.linear2(x)\n",
    "        \n",
    "        return x\n",
    "    \n",
    "clf = Net(40, 20, 1)\n",
    "\n",
    "print(clf)\n",
    "\n",
    "# criterion = nn.BCELoss()\n",
    "criterion = nn.BCEWithLogitsLoss()\n",
    "optimizer = torch.optim.SGD(clf.parameters(), lr = 0.1)\n"
   ]
  },
  {
   "cell_type": "code",
   "execution_count": 97,
   "metadata": {},
   "outputs": [
    {
     "name": "stderr",
     "output_type": "stream",
     "text": [
      "/Users/lokin/opt/anaconda3/lib/python3.7/site-packages/ipykernel_launcher.py:14: UserWarning: To copy construct from a tensor, it is recommended to use sourceTensor.clone().detach() or sourceTensor.clone().detach().requires_grad_(True), rather than torch.tensor(sourceTensor).\n",
      "  \n",
      "/Users/lokin/opt/anaconda3/lib/python3.7/site-packages/ipykernel_launcher.py:15: UserWarning: To copy construct from a tensor, it is recommended to use sourceTensor.clone().detach() or sourceTensor.clone().detach().requires_grad_(True), rather than torch.tensor(sourceTensor).\n",
      "  from ipykernel import kernelapp as app\n"
     ]
    }
   ],
   "source": [
    "# X_train = torch.from_numpy(X_train)\n",
    "y_train1 = torch.from_numpy(y_train.values)\n",
    "\n",
    "learning_rate = 1e-1\n",
    "loss_list = []\n",
    "\n",
    "for i in range(len(y_train)):\n",
    "    \n",
    "    y_pred = clf(scale_trainData[i])\n",
    "    y_pred = torch.reshape(y_pred, (-1, y_pred.shape[0]))\n",
    "    \n",
    "    xz = torch.reshape(y_train1[i], (1,))\n",
    "    \n",
    "    xz = torch.tensor(xz, dtype = torch.float64)\n",
    "    y_pred = torch.tensor(y_pred, dtype = torch.float64)\n",
    "    \n",
    "    loss = criterion(y_pred[0], xz)\n",
    "    \n",
    "    clf.zero_grad()\n",
    "    loss.requires_grad = True\n",
    "    loss.backward()\n",
    "    \n",
    "    with torch.no_grad():\n",
    "        for param in clf.parameters():\n",
    "            if param.grad is not None:\n",
    "                param -= learning_rate * param.grad"
   ]
  },
  {
   "cell_type": "code",
   "execution_count": 98,
   "metadata": {},
   "outputs": [],
   "source": [
    "scale_testData = scaler.fit_transform(X_test)"
   ]
  },
  {
   "cell_type": "code",
   "execution_count": 112,
   "metadata": {},
   "outputs": [
    {
     "name": "stderr",
     "output_type": "stream",
     "text": [
      "/Users/lokin/opt/anaconda3/lib/python3.7/site-packages/ipykernel_launcher.py:11: UserWarning: To copy construct from a tensor, it is recommended to use sourceTensor.clone().detach() or sourceTensor.clone().detach().requires_grad_(True), rather than torch.tensor(sourceTensor).\n",
      "  # This is added back by InteractiveShellApp.init_path()\n"
     ]
    }
   ],
   "source": [
    "y_test1 = torch.from_numpy(y_test.values)\n",
    "\n",
    "test_predictions = []\n",
    "\n",
    "for i in range(len(scale_testData)):\n",
    "    \n",
    "    y_test_pred = clf(scale_testData[i])\n",
    "    y_test_pred = torch.reshape(y_test_pred, (-1, y_test_pred.shape[0]))\n",
    "    \n",
    "    xz = torch.reshape(y_test1[i], (1,))\n",
    "    xz = torch.tensor(xz, dtype = torch.long)\n",
    "    \n",
    "    if y_test_pred[0][0].item() > 0.50:\n",
    "        test_predictions.append(1)\n",
    "    else:\n",
    "        test_predictions.append(0)\n"
   ]
  },
  {
   "cell_type": "code",
   "execution_count": 116,
   "metadata": {},
   "outputs": [
    {
     "data": {
      "text/plain": [
       "20.062758182395932"
      ]
     },
     "execution_count": 116,
     "metadata": {},
     "output_type": "execute_result"
    }
   ],
   "source": [
    "accuracy_score(y_test, test_predictions) * 100"
   ]
  },
  {
   "cell_type": "code",
   "execution_count": 117,
   "metadata": {},
   "outputs": [
    {
     "data": {
      "text/plain": [
       "15.02407980736154"
      ]
     },
     "execution_count": 117,
     "metadata": {},
     "output_type": "execute_result"
    }
   ],
   "source": [
    "precision_score(y_test, test_predictions) * 100"
   ]
  },
  {
   "cell_type": "code",
   "execution_count": 118,
   "metadata": {},
   "outputs": [
    {
     "data": {
      "text/plain": [
       "90.58854031630801"
      ]
     },
     "execution_count": 118,
     "metadata": {},
     "output_type": "execute_result"
    }
   ],
   "source": [
    "recall_score(y_test, test_predictions) * 100"
   ]
  },
  {
   "cell_type": "code",
   "execution_count": null,
   "metadata": {},
   "outputs": [],
   "source": []
  }
 ],
 "metadata": {
  "kernelspec": {
   "display_name": "Python 3",
   "language": "python",
   "name": "python3"
  },
  "language_info": {
   "codemirror_mode": {
    "name": "ipython",
    "version": 3
   },
   "file_extension": ".py",
   "mimetype": "text/x-python",
   "name": "python",
   "nbconvert_exporter": "python",
   "pygments_lexer": "ipython3",
   "version": "3.8.3"
  }
 },
 "nbformat": 4,
 "nbformat_minor": 4
}
